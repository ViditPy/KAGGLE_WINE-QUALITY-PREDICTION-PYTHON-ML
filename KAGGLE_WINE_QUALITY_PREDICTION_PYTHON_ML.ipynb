{
  "nbformat": 4,
  "nbformat_minor": 0,
  "metadata": {
    "colab": {
      "name": "KAGGLE_WINE QUALITY PREDICTION_PYTHON/ML",
      "provenance": [],
      "authorship_tag": "ABX9TyOVHnK2KPkvRjy4xPkoFK4j",
      "include_colab_link": true
    },
    "kernelspec": {
      "name": "python3",
      "display_name": "Python 3"
    }
  },
  "cells": [
    {
      "cell_type": "markdown",
      "metadata": {
        "id": "view-in-github",
        "colab_type": "text"
      },
      "source": [
        "<a href=\"https://colab.research.google.com/github/ViditPy/KAGGLE_WINE-QUALITY-PREDICTION-PYTHON-ML/blob/master/KAGGLE_WINE_QUALITY_PREDICTION_PYTHON_ML.ipynb\" target=\"_parent\"><img src=\"https://colab.research.google.com/assets/colab-badge.svg\" alt=\"Open In Colab\"/></a>"
      ]
    },
    {
      "cell_type": "code",
      "metadata": {
        "id": "GtZJX6mDCJPW",
        "colab_type": "code",
        "colab": {}
      },
      "source": [
        ""
      ],
      "execution_count": null,
      "outputs": []
    },
    {
      "cell_type": "markdown",
      "metadata": {
        "id": "gQJ3CTmQCWAb",
        "colab_type": "text"
      },
      "source": [
        "WINE QUALITY EXPLORATION\n",
        "\n",
        "BY: Vidit Agarwal Ph- 9997302747\n",
        "\n",
        "This Dataset has been brought from(https://archive.ics.uci.edu/ml/datasets/Wine). \n",
        "\n",
        "& also available on Kaggle(https://www.kaggle.com/uciml/red-wine-quality-cortez-et-al-2009)\n",
        "\n",
        "\n",
        "Data Set Characteristics:  \n",
        "\n",
        "Multivariate\n",
        "\n",
        "Number of Instances:\n",
        "\n",
        "178\n",
        "\n",
        "Area:\n",
        "\n",
        "Physical\n",
        "\n",
        "Attribute Characteristics:\n",
        "\n",
        "Integer, Real\n",
        "\n",
        "Number of Attributes:\n",
        "\n",
        "13\n",
        "\n",
        "Date Donated\n",
        "\n",
        "1991-07-01\n",
        "\n",
        "Associated Tasks:\n",
        "\n",
        "Classification\n",
        "\n",
        "Missing Values?\n",
        "\n",
        "No\n",
        "\n",
        "Number of Web Hits:\n",
        "\n",
        "1426517\n",
        "\n",
        "\n",
        "\n",
        "\n",
        "\n",
        "\n"
      ]
    },
    {
      "cell_type": "code",
      "metadata": {
        "id": "TLS2ch34DEMv",
        "colab_type": "code",
        "colab": {
          "base_uri": "https://localhost:8080/",
          "height": 107
        },
        "outputId": "e6c3eeac-a4e7-419d-d2f8-d72b6bd71994"
      },
      "source": [
        "## IMPORTING LIBERARIES:\n",
        "import pandas as pd\n",
        "import numpy as np\n",
        "import matplotlib.pyplot as plt\n",
        "import seaborn as sns\n",
        "from sklearn.model_selection import train_test_split\n",
        "from sklearn import preprocessing\n",
        "from sklearn import tree\n",
        "from sklearn.ensemble import RandomForestRegressor\n",
        "from sklearn.pipeline import make_pipeline\n",
        "from sklearn.model_selection import GridSearchCV\n",
        "from sklearn.metrics import mean_squared_error, r2_score\n",
        "from sklearn.externals import joblib\n"
      ],
      "execution_count": null,
      "outputs": [
        {
          "output_type": "stream",
          "text": [
            "/usr/local/lib/python3.6/dist-packages/statsmodels/tools/_testing.py:19: FutureWarning: pandas.util.testing is deprecated. Use the functions in the public API at pandas.testing instead.\n",
            "  import pandas.util.testing as tm\n",
            "/usr/local/lib/python3.6/dist-packages/sklearn/externals/joblib/__init__.py:15: FutureWarning: sklearn.externals.joblib is deprecated in 0.21 and will be removed in 0.23. Please import this functionality directly from joblib, which can be installed with: pip install joblib. If this warning is raised when loading pickled models, you may need to re-serialize those models with scikit-learn 0.21+.\n",
            "  warnings.warn(msg, category=FutureWarning)\n"
          ],
          "name": "stderr"
        }
      ]
    },
    {
      "cell_type": "code",
      "metadata": {
        "id": "51pn5VKIE9Fb",
        "colab_type": "code",
        "colab": {}
      },
      "source": [
        "## READING FILE\n",
        "\n",
        "df = pd.read_csv('wine.csv')"
      ],
      "execution_count": null,
      "outputs": []
    },
    {
      "cell_type": "code",
      "metadata": {
        "id": "2t8OCHG4FGUH",
        "colab_type": "code",
        "colab": {
          "base_uri": "https://localhost:8080/",
          "height": 214
        },
        "outputId": "29cd900a-e09b-4513-d5b1-2e3e0a9a26b3"
      },
      "source": [
        "df.head()"
      ],
      "execution_count": null,
      "outputs": [
        {
          "output_type": "execute_result",
          "data": {
            "text/html": [
              "<div>\n",
              "<style scoped>\n",
              "    .dataframe tbody tr th:only-of-type {\n",
              "        vertical-align: middle;\n",
              "    }\n",
              "\n",
              "    .dataframe tbody tr th {\n",
              "        vertical-align: top;\n",
              "    }\n",
              "\n",
              "    .dataframe thead th {\n",
              "        text-align: right;\n",
              "    }\n",
              "</style>\n",
              "<table border=\"1\" class=\"dataframe\">\n",
              "  <thead>\n",
              "    <tr style=\"text-align: right;\">\n",
              "      <th></th>\n",
              "      <th>fixed acidity</th>\n",
              "      <th>volatile acidity</th>\n",
              "      <th>citric acid</th>\n",
              "      <th>residual sugar</th>\n",
              "      <th>chlorides</th>\n",
              "      <th>free sulfur dioxide</th>\n",
              "      <th>total sulfur dioxide</th>\n",
              "      <th>density</th>\n",
              "      <th>pH</th>\n",
              "      <th>sulphates</th>\n",
              "      <th>alcohol</th>\n",
              "      <th>quality</th>\n",
              "    </tr>\n",
              "  </thead>\n",
              "  <tbody>\n",
              "    <tr>\n",
              "      <th>0</th>\n",
              "      <td>7.4</td>\n",
              "      <td>0.70</td>\n",
              "      <td>0.00</td>\n",
              "      <td>1.9</td>\n",
              "      <td>0.076</td>\n",
              "      <td>11.0</td>\n",
              "      <td>34.0</td>\n",
              "      <td>0.9978</td>\n",
              "      <td>3.51</td>\n",
              "      <td>0.56</td>\n",
              "      <td>9.4</td>\n",
              "      <td>5</td>\n",
              "    </tr>\n",
              "    <tr>\n",
              "      <th>1</th>\n",
              "      <td>7.8</td>\n",
              "      <td>0.88</td>\n",
              "      <td>0.00</td>\n",
              "      <td>2.6</td>\n",
              "      <td>0.098</td>\n",
              "      <td>25.0</td>\n",
              "      <td>67.0</td>\n",
              "      <td>0.9968</td>\n",
              "      <td>3.20</td>\n",
              "      <td>0.68</td>\n",
              "      <td>9.8</td>\n",
              "      <td>5</td>\n",
              "    </tr>\n",
              "    <tr>\n",
              "      <th>2</th>\n",
              "      <td>7.8</td>\n",
              "      <td>0.76</td>\n",
              "      <td>0.04</td>\n",
              "      <td>2.3</td>\n",
              "      <td>0.092</td>\n",
              "      <td>15.0</td>\n",
              "      <td>54.0</td>\n",
              "      <td>0.9970</td>\n",
              "      <td>3.26</td>\n",
              "      <td>0.65</td>\n",
              "      <td>9.8</td>\n",
              "      <td>5</td>\n",
              "    </tr>\n",
              "    <tr>\n",
              "      <th>3</th>\n",
              "      <td>11.2</td>\n",
              "      <td>0.28</td>\n",
              "      <td>0.56</td>\n",
              "      <td>1.9</td>\n",
              "      <td>0.075</td>\n",
              "      <td>17.0</td>\n",
              "      <td>60.0</td>\n",
              "      <td>0.9980</td>\n",
              "      <td>3.16</td>\n",
              "      <td>0.58</td>\n",
              "      <td>9.8</td>\n",
              "      <td>6</td>\n",
              "    </tr>\n",
              "    <tr>\n",
              "      <th>4</th>\n",
              "      <td>7.4</td>\n",
              "      <td>0.70</td>\n",
              "      <td>0.00</td>\n",
              "      <td>1.9</td>\n",
              "      <td>0.076</td>\n",
              "      <td>11.0</td>\n",
              "      <td>34.0</td>\n",
              "      <td>0.9978</td>\n",
              "      <td>3.51</td>\n",
              "      <td>0.56</td>\n",
              "      <td>9.4</td>\n",
              "      <td>5</td>\n",
              "    </tr>\n",
              "  </tbody>\n",
              "</table>\n",
              "</div>"
            ],
            "text/plain": [
              "   fixed acidity  volatile acidity  citric acid  ...  sulphates  alcohol  quality\n",
              "0            7.4              0.70         0.00  ...       0.56      9.4        5\n",
              "1            7.8              0.88         0.00  ...       0.68      9.8        5\n",
              "2            7.8              0.76         0.04  ...       0.65      9.8        5\n",
              "3           11.2              0.28         0.56  ...       0.58      9.8        6\n",
              "4            7.4              0.70         0.00  ...       0.56      9.4        5\n",
              "\n",
              "[5 rows x 12 columns]"
            ]
          },
          "metadata": {
            "tags": []
          },
          "execution_count": 5
        }
      ]
    },
    {
      "cell_type": "code",
      "metadata": {
        "id": "EC5bYsSWFtrH",
        "colab_type": "code",
        "colab": {
          "base_uri": "https://localhost:8080/",
          "height": 87
        },
        "outputId": "b7cf1760-ea80-4445-b5dc-46ffba35d4e6"
      },
      "source": [
        "df.columns"
      ],
      "execution_count": null,
      "outputs": [
        {
          "output_type": "execute_result",
          "data": {
            "text/plain": [
              "Index(['fixed acidity', 'volatile acidity', 'citric acid', 'residual sugar',\n",
              "       'chlorides', 'free sulfur dioxide', 'total sulfur dioxide', 'density',\n",
              "       'pH', 'sulphates', 'alcohol', 'quality'],\n",
              "      dtype='object')"
            ]
          },
          "metadata": {
            "tags": []
          },
          "execution_count": 4
        }
      ]
    },
    {
      "cell_type": "markdown",
      "metadata": {
        "id": "9CzJXMheG94Z",
        "colab_type": "text"
      },
      "source": [
        "Here's the list of all the features:\n",
        "\n",
        "quality (target)\n",
        "fixed acidity\n",
        "volatile acidity\n",
        "citric acid\n",
        "residual sugar\n",
        "chlorides\n",
        "free sulfur dioxide\n",
        "total sulfur dioxide\n",
        "density\n",
        "pH\n",
        "sulphates\n",
        "alcohol"
      ]
    },
    {
      "cell_type": "code",
      "metadata": {
        "id": "0yfeJ9MwF3Ec",
        "colab_type": "code",
        "colab": {
          "base_uri": "https://localhost:8080/",
          "height": 354
        },
        "outputId": "6b45fda7-5ed5-430e-d53f-77486df2ba17"
      },
      "source": [
        "df.info()"
      ],
      "execution_count": null,
      "outputs": [
        {
          "output_type": "stream",
          "text": [
            "<class 'pandas.core.frame.DataFrame'>\n",
            "RangeIndex: 1599 entries, 0 to 1598\n",
            "Data columns (total 12 columns):\n",
            " #   Column                Non-Null Count  Dtype  \n",
            "---  ------                --------------  -----  \n",
            " 0   fixed acidity         1599 non-null   float64\n",
            " 1   volatile acidity      1599 non-null   float64\n",
            " 2   citric acid           1599 non-null   float64\n",
            " 3   residual sugar        1599 non-null   float64\n",
            " 4   chlorides             1599 non-null   float64\n",
            " 5   free sulfur dioxide   1599 non-null   float64\n",
            " 6   total sulfur dioxide  1599 non-null   float64\n",
            " 7   density               1599 non-null   float64\n",
            " 8   pH                    1599 non-null   float64\n",
            " 9   sulphates             1599 non-null   float64\n",
            " 10  alcohol               1599 non-null   float64\n",
            " 11  quality               1599 non-null   int64  \n",
            "dtypes: float64(11), int64(1)\n",
            "memory usage: 150.0 KB\n"
          ],
          "name": "stdout"
        }
      ]
    },
    {
      "cell_type": "markdown",
      "metadata": {
        "id": "RW8q0sVJHWgb",
        "colab_type": "text"
      },
      "source": [
        "This DataSet Contains  ([1599 rows x 12 columns])\n",
        "\n",
        "\n",
        "\n",
        "Since we have to predict the wine quality, the attribute quality will become our label and the rest of the attributes will become the features.\n"
      ]
    },
    {
      "cell_type": "markdown",
      "metadata": {
        "id": "O7Ce2s9xNBhn",
        "colab_type": "text"
      },
      "source": [
        " Split data into training and test sets.\n",
        "Splitting the data into training and test sets at the beginning of your modeling workflow is crucial for getting a realistic estimate of your model's performance.\n",
        "\n",
        "First, let's separate our target (y) features from our input (X) features."
      ]
    },
    {
      "cell_type": "code",
      "metadata": {
        "id": "cS6HAhz1HTj3",
        "colab_type": "code",
        "colab": {}
      },
      "source": [
        "y = df.quality\n",
        "X = df.drop('quality', axis=1)\n",
        "\n",
        "X_train, X_test, y_train, y_test = train_test_split(X, y, \n",
        "                                                    test_size=0.2, \n",
        "                                                    random_state=123, \n",
        "                                                    stratify=y)"
      ],
      "execution_count": null,
      "outputs": []
    },
    {
      "cell_type": "markdown",
      "metadata": {
        "id": "Pw-vGZt2NdaH",
        "colab_type": "text"
      },
      "source": [
        "Data Preprocessing Steps.\n",
        "****\n",
        "\n",
        "Scikit-Learn makes data preprocessing a breeze. For example, it's pretty easy to simply scale a dataset:\n"
      ]
    },
    {
      "cell_type": "code",
      "metadata": {
        "id": "b28S78EBNelS",
        "colab_type": "code",
        "colab": {
          "base_uri": "https://localhost:8080/",
          "height": 247
        },
        "outputId": "2ed60492-d4d8-4835-d17e-04c9be4033c7"
      },
      "source": [
        "X_train_scaled = preprocessing.scale(X_train)\n",
        "X_train_scaled"
      ],
      "execution_count": null,
      "outputs": [
        {
          "output_type": "execute_result",
          "data": {
            "text/plain": [
              "array([[ 0.51358886,  2.19680282, -0.164433  , ...,  1.08415147,\n",
              "        -0.69866131, -0.58608178],\n",
              "       [-1.73698885, -0.31792985, -0.82867679, ...,  1.46964764,\n",
              "         1.2491516 ,  2.97009781],\n",
              "       [-0.35201795,  0.46443143, -0.47100705, ..., -0.13658641,\n",
              "        -0.35492962, -0.20843439],\n",
              "       ...,\n",
              "       [-0.98679628,  1.10708533, -0.93086814, ...,  0.24890976,\n",
              "        -0.98510439,  0.35803669],\n",
              "       [-0.69826067,  0.46443143, -1.28853787, ...,  1.08415147,\n",
              "        -0.35492962, -0.68049363],\n",
              "       [ 3.1104093 , -0.62528606,  2.08377675, ..., -1.61432173,\n",
              "         0.79084268, -0.39725809]])"
            ]
          },
          "metadata": {
            "tags": []
          },
          "execution_count": 10
        }
      ]
    },
    {
      "cell_type": "markdown",
      "metadata": {
        "id": "UdhutN-gNtsM",
        "colab_type": "text"
      },
      "source": [
        "You can confirm that the scaled dataset is indeed centered at zero, with unit variance:\n",
        "\n"
      ]
    },
    {
      "cell_type": "code",
      "metadata": {
        "id": "AJju9jnMNum4",
        "colab_type": "code",
        "colab": {
          "base_uri": "https://localhost:8080/",
          "height": 70
        },
        "outputId": "e0d85e7b-153e-4059-bee8-1e2d2ef59390"
      },
      "source": [
        "X_train_scaled.mean(axis=0)"
      ],
      "execution_count": null,
      "outputs": [
        {
          "output_type": "execute_result",
          "data": {
            "text/plain": [
              "array([ 1.16664562e-16, -3.05550043e-17, -8.47206937e-17, -2.22218213e-17,\n",
              "        1.94440936e-17, -6.38877362e-17, -4.16659149e-18, -1.20753377e-13,\n",
              "       -8.70817622e-16, -4.08325966e-16, -1.17220107e-15])"
            ]
          },
          "metadata": {
            "tags": []
          },
          "execution_count": 11
        }
      ]
    },
    {
      "cell_type": "code",
      "metadata": {
        "id": "cQRWq3ngNzkb",
        "colab_type": "code",
        "colab": {
          "base_uri": "https://localhost:8080/",
          "height": 34
        },
        "outputId": "1aa50a32-2c23-4166-a8e3-a0edac586ff9"
      },
      "source": [
        "X_train_scaled.std(axis=0)"
      ],
      "execution_count": null,
      "outputs": [
        {
          "output_type": "execute_result",
          "data": {
            "text/plain": [
              "array([1., 1., 1., 1., 1., 1., 1., 1., 1., 1., 1.])"
            ]
          },
          "metadata": {
            "tags": []
          },
          "execution_count": 12
        }
      ]
    },
    {
      "cell_type": "code",
      "metadata": {
        "id": "VcNswW31N-Lb",
        "colab_type": "code",
        "colab": {}
      },
      "source": [
        "scaler = preprocessing.StandardScaler().fit(X_train)"
      ],
      "execution_count": null,
      "outputs": []
    },
    {
      "cell_type": "markdown",
      "metadata": {
        "id": "-eTDs4AvOEUl",
        "colab_type": "text"
      },
      "source": [
        "Now, the scaler object has the saved means and standard deviations for each feature in the training set.\n"
      ]
    },
    {
      "cell_type": "code",
      "metadata": {
        "id": "uZCp4dSROFlF",
        "colab_type": "code",
        "colab": {
          "base_uri": "https://localhost:8080/",
          "height": 70
        },
        "outputId": "23d07c40-e684-4aea-ab3b-69f8e9e22a6a"
      },
      "source": [
        "X_train_scaled = scaler.transform(X_train)\n",
        "X_train_scaled.mean(axis=0)\n"
      ],
      "execution_count": null,
      "outputs": [
        {
          "output_type": "execute_result",
          "data": {
            "text/plain": [
              "array([ 1.16664562e-16, -3.05550043e-17, -8.47206937e-17, -2.22218213e-17,\n",
              "        1.94440936e-17, -6.38877362e-17, -4.16659149e-18, -1.20753377e-13,\n",
              "       -8.70817622e-16, -4.08325966e-16, -1.17220107e-15])"
            ]
          },
          "metadata": {
            "tags": []
          },
          "execution_count": 15
        }
      ]
    },
    {
      "cell_type": "code",
      "metadata": {
        "id": "cZzWtFTwOPFg",
        "colab_type": "code",
        "colab": {
          "base_uri": "https://localhost:8080/",
          "height": 34
        },
        "outputId": "24f03519-67be-4cac-805e-67f5c1f5de8c"
      },
      "source": [
        "X_train_scaled.std(axis=0)"
      ],
      "execution_count": null,
      "outputs": [
        {
          "output_type": "execute_result",
          "data": {
            "text/plain": [
              "array([1., 1., 1., 1., 1., 1., 1., 1., 1., 1., 1.])"
            ]
          },
          "metadata": {
            "tags": []
          },
          "execution_count": 16
        }
      ]
    },
    {
      "cell_type": "code",
      "metadata": {
        "id": "_E9ggnsnQ5ev",
        "colab_type": "code",
        "colab": {
          "base_uri": "https://localhost:8080/",
          "height": 70
        },
        "outputId": "a251ff05-9f55-4055-b469-042a30e3afaf"
      },
      "source": [
        "X_test_scaled = scaler.transform(X_test)\n",
        "X_test_scaled.mean(axis=0)"
      ],
      "execution_count": null,
      "outputs": [
        {
          "output_type": "execute_result",
          "data": {
            "text/plain": [
              "array([ 0.02776704,  0.02592492, -0.03078587, -0.03137977, -0.00471876,\n",
              "       -0.04413827, -0.02414174, -0.00293273, -0.00467444, -0.10894663,\n",
              "        0.01043391])"
            ]
          },
          "metadata": {
            "tags": []
          },
          "execution_count": 19
        }
      ]
    },
    {
      "cell_type": "code",
      "metadata": {
        "id": "TR8xUu8YRQcG",
        "colab_type": "code",
        "colab": {
          "base_uri": "https://localhost:8080/",
          "height": 70
        },
        "outputId": "8e3631bc-1a77-47a6-eef6-e032ef96d554"
      },
      "source": [
        "X_test_scaled.std(axis=0)"
      ],
      "execution_count": null,
      "outputs": [
        {
          "output_type": "execute_result",
          "data": {
            "text/plain": [
              "array([1.02160495, 1.00135689, 0.97456598, 0.91099054, 0.86716698,\n",
              "       0.94193125, 1.03673213, 1.03145119, 0.95734849, 0.83829505,\n",
              "       1.0286218 ])"
            ]
          },
          "metadata": {
            "tags": []
          },
          "execution_count": 20
        }
      ]
    },
    {
      "cell_type": "code",
      "metadata": {
        "id": "SSPqRtYVRfqj",
        "colab_type": "code",
        "colab": {}
      },
      "source": [
        "pipeline = make_pipeline(preprocessing.StandardScaler(), \n",
        "                         RandomForestRegressor(n_estimators=100))"
      ],
      "execution_count": null,
      "outputs": []
    },
    {
      "cell_type": "markdown",
      "metadata": {
        "id": "MeR64ehjRqr3",
        "colab_type": "text"
      },
      "source": [
        "This is exactly what it looks like: a modeling pipeline that first transforms the data using StandardScaler() and then fits a model using a random forest regressor.\n",
        "\n",
        "Declaring hyperparameters to tune.\n"
      ]
    },
    {
      "cell_type": "code",
      "metadata": {
        "id": "jwTRKj-rRyaQ",
        "colab_type": "code",
        "colab": {
          "base_uri": "https://localhost:8080/",
          "height": 745
        },
        "outputId": "8fb4aec5-7180-491e-e9d5-adfcd55292c0"
      },
      "source": [
        "pipeline.get_params()"
      ],
      "execution_count": null,
      "outputs": [
        {
          "output_type": "execute_result",
          "data": {
            "text/plain": [
              "{'memory': None,\n",
              " 'randomforestregressor': RandomForestRegressor(bootstrap=True, ccp_alpha=0.0, criterion='mse',\n",
              "                       max_depth=None, max_features='auto', max_leaf_nodes=None,\n",
              "                       max_samples=None, min_impurity_decrease=0.0,\n",
              "                       min_impurity_split=None, min_samples_leaf=1,\n",
              "                       min_samples_split=2, min_weight_fraction_leaf=0.0,\n",
              "                       n_estimators=100, n_jobs=None, oob_score=False,\n",
              "                       random_state=None, verbose=0, warm_start=False),\n",
              " 'randomforestregressor__bootstrap': True,\n",
              " 'randomforestregressor__ccp_alpha': 0.0,\n",
              " 'randomforestregressor__criterion': 'mse',\n",
              " 'randomforestregressor__max_depth': None,\n",
              " 'randomforestregressor__max_features': 'auto',\n",
              " 'randomforestregressor__max_leaf_nodes': None,\n",
              " 'randomforestregressor__max_samples': None,\n",
              " 'randomforestregressor__min_impurity_decrease': 0.0,\n",
              " 'randomforestregressor__min_impurity_split': None,\n",
              " 'randomforestregressor__min_samples_leaf': 1,\n",
              " 'randomforestregressor__min_samples_split': 2,\n",
              " 'randomforestregressor__min_weight_fraction_leaf': 0.0,\n",
              " 'randomforestregressor__n_estimators': 100,\n",
              " 'randomforestregressor__n_jobs': None,\n",
              " 'randomforestregressor__oob_score': False,\n",
              " 'randomforestregressor__random_state': None,\n",
              " 'randomforestregressor__verbose': 0,\n",
              " 'randomforestregressor__warm_start': False,\n",
              " 'standardscaler': StandardScaler(copy=True, with_mean=True, with_std=True),\n",
              " 'standardscaler__copy': True,\n",
              " 'standardscaler__with_mean': True,\n",
              " 'standardscaler__with_std': True,\n",
              " 'steps': [('standardscaler',\n",
              "   StandardScaler(copy=True, with_mean=True, with_std=True)),\n",
              "  ('randomforestregressor',\n",
              "   RandomForestRegressor(bootstrap=True, ccp_alpha=0.0, criterion='mse',\n",
              "                         max_depth=None, max_features='auto', max_leaf_nodes=None,\n",
              "                         max_samples=None, min_impurity_decrease=0.0,\n",
              "                         min_impurity_split=None, min_samples_leaf=1,\n",
              "                         min_samples_split=2, min_weight_fraction_leaf=0.0,\n",
              "                         n_estimators=100, n_jobs=None, oob_score=False,\n",
              "                         random_state=None, verbose=0, warm_start=False))],\n",
              " 'verbose': False}"
            ]
          },
          "metadata": {
            "tags": []
          },
          "execution_count": 22
        }
      ]
    },
    {
      "cell_type": "code",
      "metadata": {
        "id": "dlOy2YTgR74D",
        "colab_type": "code",
        "colab": {}
      },
      "source": [
        "hyperparameters = { 'randomforestregressor__max_features' : ['auto', 'sqrt', 'log2'],\n",
        "                  'randomforestregressor__max_depth': [None, 5, 3, 1]}"
      ],
      "execution_count": null,
      "outputs": []
    },
    {
      "cell_type": "markdown",
      "metadata": {
        "id": "vGg96GOISUSG",
        "colab_type": "text"
      },
      "source": [
        "Tune model using a cross-validation pipeline.\n",
        "\n",
        "\n",
        "## 6. Validation\n",
        "Let's try to increase our accuracy of models\n",
        "\n",
        "### Grid Search CV for SVC"
      ]
    },
    {
      "cell_type": "code",
      "metadata": {
        "id": "EMXsiIJHTKJ9",
        "colab_type": "code",
        "colab": {}
      },
      "source": [
        ""
      ],
      "execution_count": null,
      "outputs": []
    },
    {
      "cell_type": "markdown",
      "metadata": {
        "id": "nurbXQbh11SC",
        "colab_type": "text"
      },
      "source": [
        ""
      ]
    },
    {
      "cell_type": "code",
      "metadata": {
        "id": "xpnp-HBESVeX",
        "colab_type": "code",
        "colab": {
          "base_uri": "https://localhost:8080/",
          "height": 550
        },
        "outputId": "8110b710-390a-437b-bbb4-2c8837e2c654"
      },
      "source": [
        "clf = GridSearchCV(pipeline, hyperparameters, cv=10)\n",
        " \n",
        "# Fit and tune model\n",
        "clf.fit(X_train, y_train)"
      ],
      "execution_count": null,
      "outputs": [
        {
          "output_type": "execute_result",
          "data": {
            "text/plain": [
              "GridSearchCV(cv=10, error_score=nan,\n",
              "             estimator=Pipeline(memory=None,\n",
              "                                steps=[('standardscaler',\n",
              "                                        StandardScaler(copy=True,\n",
              "                                                       with_mean=True,\n",
              "                                                       with_std=True)),\n",
              "                                       ('randomforestregressor',\n",
              "                                        RandomForestRegressor(bootstrap=True,\n",
              "                                                              ccp_alpha=0.0,\n",
              "                                                              criterion='mse',\n",
              "                                                              max_depth=None,\n",
              "                                                              max_features='auto',\n",
              "                                                              max_leaf_nodes=None,\n",
              "                                                              max_samples=None,\n",
              "                                                              min_impurity_decrease=0.0,\n",
              "                                                              min_impurity_...\n",
              "                                                              min_weight_fraction_leaf=0.0,\n",
              "                                                              n_estimators=100,\n",
              "                                                              n_jobs=None,\n",
              "                                                              oob_score=False,\n",
              "                                                              random_state=None,\n",
              "                                                              verbose=0,\n",
              "                                                              warm_start=False))],\n",
              "                                verbose=False),\n",
              "             iid='deprecated', n_jobs=None,\n",
              "             param_grid={'randomforestregressor__max_depth': [None, 5, 3, 1],\n",
              "                         'randomforestregressor__max_features': ['auto', 'sqrt',\n",
              "                                                                 'log2']},\n",
              "             pre_dispatch='2*n_jobs', refit=True, return_train_score=False,\n",
              "             scoring=None, verbose=0)"
            ]
          },
          "metadata": {
            "tags": []
          },
          "execution_count": 24
        }
      ]
    },
    {
      "cell_type": "code",
      "metadata": {
        "id": "HBtPC9_FTLOk",
        "colab_type": "code",
        "colab": {
          "base_uri": "https://localhost:8080/",
          "height": 52
        },
        "outputId": "cbe2be62-ef9d-418a-e34c-65304880563d"
      },
      "source": [
        "clf.best_params_"
      ],
      "execution_count": null,
      "outputs": [
        {
          "output_type": "execute_result",
          "data": {
            "text/plain": [
              "{'randomforestregressor__max_depth': None,\n",
              " 'randomforestregressor__max_features': 'log2'}"
            ]
          },
          "metadata": {
            "tags": []
          },
          "execution_count": 25
        }
      ]
    },
    {
      "cell_type": "markdown",
      "metadata": {
        "id": "akydbkJqTWJz",
        "colab_type": "text"
      },
      "source": [
        "Refit on the entire training set."
      ]
    },
    {
      "cell_type": "code",
      "metadata": {
        "id": "WKwq-bOxTW_E",
        "colab_type": "code",
        "colab": {
          "base_uri": "https://localhost:8080/",
          "height": 34
        },
        "outputId": "e064fe0d-9e4f-4773-c7ba-7d6ce1c6d505"
      },
      "source": [
        "clf.refit"
      ],
      "execution_count": null,
      "outputs": [
        {
          "output_type": "execute_result",
          "data": {
            "text/plain": [
              "True"
            ]
          },
          "metadata": {
            "tags": []
          },
          "execution_count": 26
        }
      ]
    },
    {
      "cell_type": "markdown",
      "metadata": {
        "id": "eqs8yif5TcfE",
        "colab_type": "text"
      },
      "source": [
        "Evaluate model pipeline on test data."
      ]
    },
    {
      "cell_type": "code",
      "metadata": {
        "id": "IZFoSN8jTbXR",
        "colab_type": "code",
        "colab": {}
      },
      "source": [
        "y_pred = clf.predict(X_test)\n"
      ],
      "execution_count": null,
      "outputs": []
    },
    {
      "cell_type": "code",
      "metadata": {
        "id": "ONIp99txTk1T",
        "colab_type": "code",
        "colab": {
          "base_uri": "https://localhost:8080/",
          "height": 34
        },
        "outputId": "3a3d36ad-f86e-4e49-ba44-46fb5f010abc"
      },
      "source": [
        "r2_score(y_test, y_pred)"
      ],
      "execution_count": null,
      "outputs": [
        {
          "output_type": "execute_result",
          "data": {
            "text/plain": [
              "0.47463793207821303"
            ]
          },
          "metadata": {
            "tags": []
          },
          "execution_count": 28
        }
      ]
    },
    {
      "cell_type": "code",
      "metadata": {
        "id": "6yRspJejTl_q",
        "colab_type": "code",
        "colab": {
          "base_uri": "https://localhost:8080/",
          "height": 34
        },
        "outputId": "5d90efef-a913-45bc-8a25-e8ddac0996f1"
      },
      "source": [
        "mean_squared_error(y_test, y_pred)"
      ],
      "execution_count": null,
      "outputs": [
        {
          "output_type": "execute_result",
          "data": {
            "text/plain": [
              "0.3390021875"
            ]
          },
          "metadata": {
            "tags": []
          },
          "execution_count": 29
        }
      ]
    },
    {
      "cell_type": "markdown",
      "metadata": {
        "id": "qsQP-APcTs1g",
        "colab_type": "text"
      },
      "source": [
        "Save model for future use."
      ]
    },
    {
      "cell_type": "code",
      "metadata": {
        "id": "JFC9Ps7BTtnJ",
        "colab_type": "code",
        "colab": {
          "base_uri": "https://localhost:8080/",
          "height": 34
        },
        "outputId": "d81f5258-1604-41c8-96f5-c44daa026b8c"
      },
      "source": [
        "joblib.dump(clf, 'rf_regressor.pkl')\n"
      ],
      "execution_count": null,
      "outputs": [
        {
          "output_type": "execute_result",
          "data": {
            "text/plain": [
              "['rf_regressor.pkl']"
            ]
          },
          "metadata": {
            "tags": []
          },
          "execution_count": 30
        }
      ]
    },
    {
      "cell_type": "code",
      "metadata": {
        "id": "vA-7hfF8TzLl",
        "colab_type": "code",
        "colab": {}
      },
      "source": [
        "clf2 = joblib.load('rf_regressor.pkl')\n"
      ],
      "execution_count": null,
      "outputs": []
    },
    {
      "cell_type": "code",
      "metadata": {
        "id": "g6_PahVIT4Gt",
        "colab_type": "code",
        "colab": {
          "base_uri": "https://localhost:8080/",
          "height": 550
        },
        "outputId": "4de7eabf-0874-4c78-fbe8-be186431f81b"
      },
      "source": [
        "# Predict data set using loaded model\n",
        "clf2.predict(X_test)"
      ],
      "execution_count": null,
      "outputs": [
        {
          "output_type": "execute_result",
          "data": {
            "text/plain": [
              "array([6.46, 5.75, 4.93, 5.53, 6.34, 5.61, 4.92, 4.85, 5.03, 6.02, 5.37,\n",
              "       5.67, 5.7 , 5.04, 5.69, 5.65, 6.57, 5.59, 5.78, 6.96, 5.48, 5.52,\n",
              "       5.02, 5.99, 5.91, 5.05, 5.41, 5.14, 5.97, 5.96, 5.87, 6.57, 5.98,\n",
              "       5.05, 4.97, 5.89, 5.04, 6.1 , 5.09, 5.98, 4.93, 5.81, 6.52, 5.05,\n",
              "       6.18, 5.38, 5.41, 5.51, 5.17, 6.44, 6.22, 5.24, 5.86, 5.18, 5.69,\n",
              "       5.78, 5.41, 5.38, 4.98, 5.19, 5.37, 5.13, 5.03, 5.8 , 6.11, 5.2 ,\n",
              "       6.41, 5.05, 5.22, 6.57, 5.74, 5.8 , 5.04, 5.03, 5.22, 5.99, 5.28,\n",
              "       5.13, 5.3 , 5.28, 6.23, 5.65, 6.21, 6.38, 5.09, 5.96, 6.48, 6.21,\n",
              "       5.66, 5.85, 5.9 , 5.39, 6.48, 5.74, 5.72, 5.72, 6.79, 6.78, 5.51,\n",
              "       6.76, 5.09, 5.37, 5.16, 6.44, 5.08, 4.64, 5.69, 4.99, 5.63, 5.91,\n",
              "       5.89, 5.63, 6.  , 5.43, 5.21, 5.3 , 5.99, 5.11, 4.81, 5.95, 5.87,\n",
              "       5.14, 5.76, 6.1 , 5.28, 5.43, 5.28, 5.99, 5.67, 5.43, 5.85, 6.02,\n",
              "       5.13, 5.27, 5.1 , 6.45, 5.02, 5.23, 6.67, 5.51, 5.22, 5.07, 5.48,\n",
              "       6.05, 5.28, 5.41, 5.13, 6.57, 5.84, 5.17, 5.54, 5.23, 4.98, 5.02,\n",
              "       5.26, 5.97, 5.35, 5.74, 5.7 , 5.24, 5.62, 5.27, 5.36, 5.9 , 5.04,\n",
              "       5.91, 5.11, 5.29, 5.46, 5.12, 6.02, 4.98, 5.57, 5.09, 5.57, 5.46,\n",
              "       5.01, 5.39, 5.6 , 5.04, 5.99, 5.56, 5.05, 5.01, 5.16, 6.32, 5.19,\n",
              "       5.47, 5.15, 4.72, 5.43, 6.67, 5.81, 5.87, 5.35, 5.14, 5.46, 5.08,\n",
              "       6.28, 4.85, 6.26, 5.08, 5.17, 5.21, 6.8 , 6.15, 5.3 , 5.19, 5.42,\n",
              "       5.95, 5.76, 6.11, 5.99, 6.22, 5.81, 5.93, 5.3 , 5.3 , 5.51, 5.3 ,\n",
              "       5.17, 6.1 , 6.13, 5.54, 5.97, 5.89, 5.54, 6.21, 5.41, 5.8 , 5.46,\n",
              "       5.37, 6.21, 5.71, 4.81, 4.61, 6.86, 6.51, 6.18, 5.26, 5.21, 5.51,\n",
              "       5.45, 6.22, 5.97, 5.13, 5.08, 5.23, 5.26, 6.26, 5.27, 5.03, 5.32,\n",
              "       5.11, 5.78, 6.45, 5.79, 5.39, 5.51, 6.55, 5.54, 6.01, 5.18, 5.21,\n",
              "       5.78, 5.86, 5.76, 5.56, 5.42, 5.06, 5.68, 5.55, 6.52, 6.08, 5.65,\n",
              "       5.02, 6.03, 6.56, 6.09, 5.41, 5.7 , 5.34, 5.34, 5.95, 6.83, 5.31,\n",
              "       6.41, 5.98, 5.32, 5.52, 5.67, 5.27, 5.13, 6.23, 5.81, 6.03, 5.98,\n",
              "       5.95, 5.41, 5.68, 5.54, 6.14, 5.6 , 6.87, 6.83, 5.81, 6.33, 5.07,\n",
              "       5.4 , 5.89, 5.33, 5.34, 6.01, 6.61, 6.32, 5.26, 5.51, 5.65, 6.01,\n",
              "       5.73])"
            ]
          },
          "metadata": {
            "tags": []
          },
          "execution_count": 32
        }
      ]
    },
    {
      "cell_type": "markdown",
      "metadata": {
        "id": "p7X2sN9BVnHq",
        "colab_type": "text"
      },
      "source": [
        "NOW,\n",
        "LET'S DO SOME GRAPHICAL ANALYSIS  OR VISUALISATION AND PLOTS"
      ]
    },
    {
      "cell_type": "code",
      "metadata": {
        "id": "G3M89uiQVxqY",
        "colab_type": "code",
        "colab": {
          "base_uri": "https://localhost:8080/",
          "height": 410
        },
        "outputId": "00f93c81-5467-4e8f-d912-18a724e72f30"
      },
      "source": [
        "## Here we see that fixed acidity does not give any specification to classify the quality.\n",
        "fig = plt.figure(figsize = (10,6))\n",
        "sns.barplot(x = 'quality', y = 'fixed acidity', data = df)"
      ],
      "execution_count": null,
      "outputs": [
        {
          "output_type": "execute_result",
          "data": {
            "text/plain": [
              "<matplotlib.axes._subplots.AxesSubplot at 0x7f64acb032b0>"
            ]
          },
          "metadata": {
            "tags": []
          },
          "execution_count": 36
        },
        {
          "output_type": "display_data",
          "data": {
            "image/png": "[encoded data removed]",
            "text/plain": [
              "<Figure size 720x432 with 1 Axes>"
            ]
          },
          "metadata": {
            "tags": [],
            "needs_background": "light"
          }
        }
      ]
    },
    {
      "cell_type": "code",
      "metadata": {
        "id": "pD7Any0IWBms",
        "colab_type": "code",
        "colab": {
          "base_uri": "https://localhost:8080/",
          "height": 405
        },
        "outputId": "7e65ab84-4756-4c46-db9a-06052cb92596"
      },
      "source": [
        "#Here we see that its quite a downing trend in the volatile acidity as we go higher the quality \n",
        "fig = plt.figure(figsize = (10,6))\n",
        "sns.barplot(x = 'quality', y = 'volatile acidity', data = df)"
      ],
      "execution_count": null,
      "outputs": [
        {
          "output_type": "execute_result",
          "data": {
            "text/plain": [
              "<matplotlib.axes._subplots.AxesSubplot at 0x7f64acb083c8>"
            ]
          },
          "metadata": {
            "tags": []
          },
          "execution_count": 37
        },
        {
          "output_type": "display_data",
          "data": {
            "image/png": "[encoded data removed]",
            "text/plain": [
              "<Figure size 720x432 with 1 Axes>"
            ]
          },
          "metadata": {
            "tags": [],
            "needs_background": "light"
          }
        }
      ]
    },
    {
      "cell_type": "code",
      "metadata": {
        "id": "6TQUPtUhWNaL",
        "colab_type": "code",
        "colab": {
          "base_uri": "https://localhost:8080/",
          "height": 405
        },
        "outputId": "06d0458f-868f-4f38-e33e-1c0835389074"
      },
      "source": [
        "#Composition of citric acid go higher as we go higher in the quality of the wine\n",
        "fig = plt.figure(figsize = (10,6))\n",
        "sns.barplot(x = 'quality', y = 'citric acid', data = df)"
      ],
      "execution_count": null,
      "outputs": [
        {
          "output_type": "execute_result",
          "data": {
            "text/plain": [
              "<matplotlib.axes._subplots.AxesSubplot at 0x7f64ac9636d8>"
            ]
          },
          "metadata": {
            "tags": []
          },
          "execution_count": 38
        },
        {
          "output_type": "display_data",
          "data": {
            "image/png": "[encoded data removed]",
            "text/plain": [
              "<Figure size 720x432 with 1 Axes>"
            ]
          },
          "metadata": {
            "tags": [],
            "needs_background": "light"
          }
        }
      ]
    },
    {
      "cell_type": "code",
      "metadata": {
        "id": "CZnSullIWZkh",
        "colab_type": "code",
        "colab": {
          "base_uri": "https://localhost:8080/",
          "height": 405
        },
        "outputId": "f42723d3-68d2-424b-9dc8-705323e7d24b"
      },
      "source": [
        "fig = plt.figure(figsize = (10,6))\n",
        "sns.barplot(x = 'quality', y = 'residual sugar', data = df)"
      ],
      "execution_count": null,
      "outputs": [
        {
          "output_type": "execute_result",
          "data": {
            "text/plain": [
              "<matplotlib.axes._subplots.AxesSubplot at 0x7f64aca59898>"
            ]
          },
          "metadata": {
            "tags": []
          },
          "execution_count": 39
        },
        {
          "output_type": "display_data",
          "data": {
            "image/png": "[encoded data removed]",
            "text/plain": [
              "<Figure size 720x432 with 1 Axes>"
            ]
          },
          "metadata": {
            "tags": [],
            "needs_background": "light"
          }
        }
      ]
    },
    {
      "cell_type": "code",
      "metadata": {
        "id": "kIg11hTiWig4",
        "colab_type": "code",
        "colab": {
          "base_uri": "https://localhost:8080/",
          "height": 405
        },
        "outputId": "379a9b09-3101-4c99-fca3-44940564dc19"
      },
      "source": [
        "#Composition of chloride also go down as we go higher in the quality of the wine\n",
        "fig = plt.figure(figsize = (10,6))\n",
        "sns.barplot(x = 'quality', y = 'chlorides', data = df)"
      ],
      "execution_count": null,
      "outputs": [
        {
          "output_type": "execute_result",
          "data": {
            "text/plain": [
              "<matplotlib.axes._subplots.AxesSubplot at 0x7f64ac4675f8>"
            ]
          },
          "metadata": {
            "tags": []
          },
          "execution_count": 40
        },
        {
          "output_type": "display_data",
          "data": {
            "image/png": "[encoded data removed]",
            "text/plain": [
              "<Figure size 720x432 with 1 Axes>"
            ]
          },
          "metadata": {
            "tags": [],
            "needs_background": "light"
          }
        }
      ]
    },
    {
      "cell_type": "code",
      "metadata": {
        "id": "wWwMksX7WmX9",
        "colab_type": "code",
        "colab": {
          "base_uri": "https://localhost:8080/",
          "height": 405
        },
        "outputId": "b451e523-3a98-4628-a8a6-9866460eecb1"
      },
      "source": [
        "fig = plt.figure(figsize = (10,6))\n",
        "sns.barplot(x = 'quality', y = 'free sulfur dioxide', data = df)"
      ],
      "execution_count": null,
      "outputs": [
        {
          "output_type": "execute_result",
          "data": {
            "text/plain": [
              "<matplotlib.axes._subplots.AxesSubplot at 0x7f64ac4fcb70>"
            ]
          },
          "metadata": {
            "tags": []
          },
          "execution_count": 41
        },
        {
          "output_type": "display_data",
          "data": {
            "image/png": "[encoded data removed]",
            "text/plain": [
              "<Figure size 720x432 with 1 Axes>"
            ]
          },
          "metadata": {
            "tags": [],
            "needs_background": "light"
          }
        }
      ]
    },
    {
      "cell_type": "code",
      "metadata": {
        "id": "qXsB1if4Wy24",
        "colab_type": "code",
        "colab": {
          "base_uri": "https://localhost:8080/",
          "height": 405
        },
        "outputId": "961620a3-f335-45b1-f610-31e0870774ad"
      },
      "source": [
        "fig = plt.figure(figsize = (10,6))\n",
        "sns.barplot(x = 'quality', y = 'total sulfur dioxide', data = df)"
      ],
      "execution_count": null,
      "outputs": [
        {
          "output_type": "execute_result",
          "data": {
            "text/plain": [
              "<matplotlib.axes._subplots.AxesSubplot at 0x7f64ac2e4630>"
            ]
          },
          "metadata": {
            "tags": []
          },
          "execution_count": 42
        },
        {
          "output_type": "display_data",
          "data": {
            "image/png": "[encoded data removed]",
            "text/plain": [
              "<Figure size 720x432 with 1 Axes>"
            ]
          },
          "metadata": {
            "tags": [],
            "needs_background": "light"
          }
        }
      ]
    },
    {
      "cell_type": "code",
      "metadata": {
        "id": "ddOwYBicW6Fx",
        "colab_type": "code",
        "colab": {
          "base_uri": "https://localhost:8080/",
          "height": 405
        },
        "outputId": "73841511-3b5a-4ba5-e0a9-ef2e928338ff"
      },
      "source": [
        "#Sulphates level goes higher with the quality of wine\n",
        "fig = plt.figure(figsize = (10,6))\n",
        "sns.barplot(x = 'quality', y = 'sulphates', data = df)"
      ],
      "execution_count": null,
      "outputs": [
        {
          "output_type": "execute_result",
          "data": {
            "text/plain": [
              "<matplotlib.axes._subplots.AxesSubplot at 0x7f64ac4fcef0>"
            ]
          },
          "metadata": {
            "tags": []
          },
          "execution_count": 43
        },
        {
          "output_type": "display_data",
          "data": {
            "image/png": "[encoded data removed]",
            "text/plain": [
              "<Figure size 720x432 with 1 Axes>"
            ]
          },
          "metadata": {
            "tags": [],
            "needs_background": "light"
          }
        }
      ]
    },
    {
      "cell_type": "code",
      "metadata": {
        "id": "A4LZeyecXB8Q",
        "colab_type": "code",
        "colab": {
          "base_uri": "https://localhost:8080/",
          "height": 405
        },
        "outputId": "35314790-77c4-4283-9cad-c942a7fc0bea"
      },
      "source": [
        "#Alcohol level also goes higher as te quality of wine increases\n",
        "fig = plt.figure(figsize = (10,6))\n",
        "sns.barplot(x = 'quality', y = 'alcohol', data = df)"
      ],
      "execution_count": null,
      "outputs": [
        {
          "output_type": "execute_result",
          "data": {
            "text/plain": [
              "<matplotlib.axes._subplots.AxesSubplot at 0x7f64acc3a7b8>"
            ]
          },
          "metadata": {
            "tags": []
          },
          "execution_count": 44
        },
        {
          "output_type": "display_data",
          "data": {
            "image/png": "[encoded data removed]",
            "text/plain": [
              "<Figure size 720x432 with 1 Axes>"
            ]
          },
          "metadata": {
            "tags": [],
            "needs_background": "light"
          }
        }
      ]
    },
    {
      "cell_type": "markdown",
      "metadata": {
        "id": "mwjUkk59156M",
        "colab_type": "text"
      },
      "source": [
        "## NOW,\n",
        "##  IMPLEMENTING ALL MACHINE LEARNING CONCEPTS IN A \"TUTORIAL FORMAT\"\n"
      ]
    },
    {
      "cell_type": "markdown",
      "metadata": {
        "id": "ra5SWxMV2d9H",
        "colab_type": "text"
      },
      "source": [
        "## ## Preprocessing Data for performing Machine learning algorithms"
      ]
    },
    {
      "cell_type": "code",
      "metadata": {
        "id": "RvHHVF4p3Unk",
        "colab_type": "code",
        "colab": {}
      },
      "source": [
        "import pandas as pd\n",
        "import seaborn as sns\n",
        "import matplotlib.pyplot as plt\n",
        "from sklearn.ensemble import RandomForestClassifier\n",
        "from sklearn.svm import SVC\n",
        "from sklearn.linear_model import SGDClassifier\n",
        "from sklearn.metrics import confusion_matrix, classification_report\n",
        "from sklearn.preprocessing import StandardScaler, LabelEncoder\n",
        "from sklearn.model_selection import train_test_split, GridSearchCV, cross_val_score\n",
        "%matplotlib inline"
      ],
      "execution_count": null,
      "outputs": []
    },
    {
      "cell_type": "code",
      "metadata": {
        "id": "xyVNZtA62JhB",
        "colab_type": "code",
        "colab": {}
      },
      "source": [
        "#Making binary classificaion for the response variable.\n",
        "#Dividing wine as good and bad by giving the limit for the quality\n",
        "bins = (2, 6.5, 8)\n",
        "group_names = ['bad', 'good']\n",
        "df['quality'] = pd.cut(df['quality'], bins = bins, labels = group_names)"
      ],
      "execution_count": null,
      "outputs": []
    },
    {
      "cell_type": "code",
      "metadata": {
        "id": "EOdtLbyK2zUX",
        "colab_type": "code",
        "colab": {}
      },
      "source": [
        "#Now lets assign a labels to our quality variable\n",
        "label_quality = LabelEncoder()"
      ],
      "execution_count": null,
      "outputs": []
    },
    {
      "cell_type": "code",
      "metadata": {
        "id": "aIKOFS-53gz5",
        "colab_type": "code",
        "colab": {}
      },
      "source": [
        "#Bad becomes 0 and good becomes 1 \n",
        "df['quality'] = label_quality.fit_transform(df['quality'])"
      ],
      "execution_count": null,
      "outputs": []
    },
    {
      "cell_type": "code",
      "metadata": {
        "id": "n8OOeMwv3no-",
        "colab_type": "code",
        "colab": {
          "base_uri": "https://localhost:8080/",
          "height": 70
        },
        "outputId": "ebd642b1-f3b8-4e1a-ab57-d1272f3ac55f"
      },
      "source": [
        "df['quality'].value_counts()"
      ],
      "execution_count": null,
      "outputs": [
        {
          "output_type": "execute_result",
          "data": {
            "text/plain": [
              "0    1382\n",
              "1     217\n",
              "Name: quality, dtype: int64"
            ]
          },
          "metadata": {
            "tags": []
          },
          "execution_count": 9
        }
      ]
    },
    {
      "cell_type": "code",
      "metadata": {
        "id": "QTTFPha23tYE",
        "colab_type": "code",
        "colab": {
          "base_uri": "https://localhost:8080/",
          "height": 296
        },
        "outputId": "ed858d40-03b5-4982-d72f-48c5c31d29cd"
      },
      "source": [
        "sns.countplot(df['quality'])"
      ],
      "execution_count": null,
      "outputs": [
        {
          "output_type": "execute_result",
          "data": {
            "text/plain": [
              "<matplotlib.axes._subplots.AxesSubplot at 0x7f969a5b9668>"
            ]
          },
          "metadata": {
            "tags": []
          },
          "execution_count": 10
        },
        {
          "output_type": "display_data",
          "data": {
            "image/png": "[encoded data removed]",
            "text/plain": [
              "<Figure size 432x288 with 1 Axes>"
            ]
          },
          "metadata": {
            "tags": [],
            "needs_background": "light"
          }
        }
      ]
    },
    {
      "cell_type": "code",
      "metadata": {
        "id": "xXTzqLSb33M2",
        "colab_type": "code",
        "colab": {}
      },
      "source": [
        "#Now seperate the dataset as response variable and feature variabes\n",
        "X = df.drop('quality', axis = 1)\n",
        "y = df['quality']"
      ],
      "execution_count": null,
      "outputs": []
    },
    {
      "cell_type": "code",
      "metadata": {
        "id": "LCN9QwpB39Q8",
        "colab_type": "code",
        "colab": {}
      },
      "source": [
        "#Train and Test splitting of data \n",
        "X_train, X_test, y_train, y_test = train_test_split(X, y, test_size = 0.2, random_state = 42)"
      ],
      "execution_count": null,
      "outputs": []
    },
    {
      "cell_type": "code",
      "metadata": {
        "id": "T9TFCAzq4BjH",
        "colab_type": "code",
        "colab": {}
      },
      "source": [
        "#Applying Standard scaling to get optimized result\n",
        "sc = StandardScaler()"
      ],
      "execution_count": null,
      "outputs": []
    },
    {
      "cell_type": "code",
      "metadata": {
        "id": "WtJJn2mS4Gwj",
        "colab_type": "code",
        "colab": {}
      },
      "source": [
        "X_train = sc.fit_transform(X_train)\n",
        "X_test = sc.fit_transform(X_test)"
      ],
      "execution_count": null,
      "outputs": []
    },
    {
      "cell_type": "markdown",
      "metadata": {
        "id": "FqJ_tgzg4MFB",
        "colab_type": "text"
      },
      "source": [
        "## Our training and testing data is ready now to perform machine learning algorithm"
      ]
    },
    {
      "cell_type": "markdown",
      "metadata": {
        "id": "ctGNMlmh4WPq",
        "colab_type": "text"
      },
      "source": [
        "## Random Forest Classifier"
      ]
    },
    {
      "cell_type": "code",
      "metadata": {
        "id": "Jledkle64NeX",
        "colab_type": "code",
        "colab": {}
      },
      "source": [
        "rfc = RandomForestClassifier(n_estimators=200)\n",
        "rfc.fit(X_train, y_train)\n",
        "pred_rfc = rfc.predict(X_test)"
      ],
      "execution_count": null,
      "outputs": []
    },
    {
      "cell_type": "code",
      "metadata": {
        "id": "xqqizE3C4hM0",
        "colab_type": "code",
        "colab": {
          "base_uri": "https://localhost:8080/",
          "height": 176
        },
        "outputId": "e0e54b13-ec98-41d2-fcff-0db46bbf0b17"
      },
      "source": [
        "#Let's see how our model performed\n",
        "print(classification_report(y_test, pred_rfc))"
      ],
      "execution_count": null,
      "outputs": [
        {
          "output_type": "stream",
          "text": [
            "              precision    recall  f1-score   support\n",
            "\n",
            "           0       0.90      0.97      0.94       273\n",
            "           1       0.70      0.40      0.51        47\n",
            "\n",
            "    accuracy                           0.89       320\n",
            "   macro avg       0.80      0.69      0.72       320\n",
            "weighted avg       0.87      0.89      0.87       320\n",
            "\n"
          ],
          "name": "stdout"
        }
      ]
    },
    {
      "cell_type": "code",
      "metadata": {
        "id": "9ysicIub4ocR",
        "colab_type": "code",
        "colab": {}
      },
      "source": [
        "##  Random forest gives the accuracy of 87%"
      ],
      "execution_count": null,
      "outputs": []
    },
    {
      "cell_type": "code",
      "metadata": {
        "id": "VPGLMygg4qoi",
        "colab_type": "code",
        "colab": {
          "base_uri": "https://localhost:8080/",
          "height": 52
        },
        "outputId": "28941448-1904-4bae-9639-84b274fbfb31"
      },
      "source": [
        "#Confusion matrix for the random forest classification\n",
        "print(confusion_matrix(y_test, pred_rfc))"
      ],
      "execution_count": null,
      "outputs": [
        {
          "output_type": "stream",
          "text": [
            "[[265   8]\n",
            " [ 28  19]]\n"
          ],
          "name": "stdout"
        }
      ]
    },
    {
      "cell_type": "markdown",
      "metadata": {
        "id": "J_AIxUUV40PS",
        "colab_type": "text"
      },
      "source": [
        "##  ## Stochastic Gradient Decent Classifier"
      ]
    },
    {
      "cell_type": "code",
      "metadata": {
        "id": "btKiWU_h42Oz",
        "colab_type": "code",
        "colab": {}
      },
      "source": [
        "sgd = SGDClassifier(penalty=None)\n",
        "sgd.fit(X_train, y_train)\n",
        "pred_sgd = sgd.predict(X_test)"
      ],
      "execution_count": null,
      "outputs": []
    },
    {
      "cell_type": "code",
      "metadata": {
        "id": "fr_-AHHC48in",
        "colab_type": "code",
        "colab": {
          "base_uri": "https://localhost:8080/",
          "height": 176
        },
        "outputId": "86cfd561-71e4-45a6-804f-c98db1a6d0cd"
      },
      "source": [
        "print(classification_report(y_test, pred_sgd))"
      ],
      "execution_count": null,
      "outputs": [
        {
          "output_type": "stream",
          "text": [
            "              precision    recall  f1-score   support\n",
            "\n",
            "           0       0.93      0.90      0.91       273\n",
            "           1       0.50      0.60      0.54        47\n",
            "\n",
            "    accuracy                           0.85       320\n",
            "   macro avg       0.71      0.75      0.73       320\n",
            "weighted avg       0.87      0.85      0.86       320\n",
            "\n"
          ],
          "name": "stdout"
        }
      ]
    },
    {
      "cell_type": "code",
      "metadata": {
        "id": "opzVqNcf5CwS",
        "colab_type": "code",
        "colab": {}
      },
      "source": [
        "#### 84% accuracy using stochastic gradient descent classifier\n",
        "###   "
      ],
      "execution_count": null,
      "outputs": []
    },
    {
      "cell_type": "code",
      "metadata": {
        "id": "0lyfbbIQ5JUn",
        "colab_type": "code",
        "colab": {
          "base_uri": "https://localhost:8080/",
          "height": 52
        },
        "outputId": "3cbe7a5c-ef1a-4505-ee3b-64e8060b0e83"
      },
      "source": [
        "print(confusion_matrix(y_test, pred_sgd))"
      ],
      "execution_count": null,
      "outputs": [
        {
          "output_type": "stream",
          "text": [
            "[[245  28]\n",
            " [ 19  28]]\n"
          ],
          "name": "stdout"
        }
      ]
    },
    {
      "cell_type": "markdown",
      "metadata": {
        "id": "J50DsRew5OKW",
        "colab_type": "text"
      },
      "source": [
        "##  ## Support Vector Classifier"
      ]
    },
    {
      "cell_type": "code",
      "metadata": {
        "id": "9eAFIWc25QGU",
        "colab_type": "code",
        "colab": {}
      },
      "source": [
        "svc = SVC()\n",
        "svc.fit(X_train, y_train)\n",
        "pred_svc = svc.predict(X_test)"
      ],
      "execution_count": null,
      "outputs": []
    },
    {
      "cell_type": "code",
      "metadata": {
        "id": "t5Z58j585V3Q",
        "colab_type": "code",
        "colab": {
          "base_uri": "https://localhost:8080/",
          "height": 176
        },
        "outputId": "54b4c5cd-7b70-4a54-a506-2c920b34818d"
      },
      "source": [
        "print(classification_report(y_test, pred_svc))"
      ],
      "execution_count": null,
      "outputs": [
        {
          "output_type": "stream",
          "text": [
            "              precision    recall  f1-score   support\n",
            "\n",
            "           0       0.88      0.98      0.93       273\n",
            "           1       0.71      0.26      0.37        47\n",
            "\n",
            "    accuracy                           0.88       320\n",
            "   macro avg       0.80      0.62      0.65       320\n",
            "weighted avg       0.86      0.88      0.85       320\n",
            "\n"
          ],
          "name": "stdout"
        }
      ]
    },
    {
      "cell_type": "markdown",
      "metadata": {
        "id": "aAVBrYed5cUr",
        "colab_type": "text"
      },
      "source": [
        "## Support vector classifier gets 86%"
      ]
    },
    {
      "cell_type": "markdown",
      "metadata": {
        "id": "Eahe5Umu5kHr",
        "colab_type": "text"
      },
      "source": [
        "## Let's try to increase our accuracy of models\n",
        "## Grid Search CV"
      ]
    },
    {
      "cell_type": "code",
      "metadata": {
        "id": "s0pKgdvk5eDN",
        "colab_type": "code",
        "colab": {}
      },
      "source": [
        "#Finding best parameters for our SVC model\n",
        "param = {\n",
        "    'C': [0.1,0.8,0.9,1,1.1,1.2,1.3,1.4],\n",
        "    'kernel':['linear', 'rbf'],\n",
        "    'gamma' :[0.1,0.8,0.9,1,1.1,1.2,1.3,1.4]\n",
        "}\n",
        "grid_svc = GridSearchCV(svc, param_grid=param, scoring='accuracy', cv=10)"
      ],
      "execution_count": null,
      "outputs": []
    },
    {
      "cell_type": "code",
      "metadata": {
        "id": "sI9q3_FO5st8",
        "colab_type": "code",
        "colab": {
          "base_uri": "https://localhost:8080/",
          "height": 247
        },
        "outputId": "012edc98-0a94-413f-dab8-8bc5dca04bc1"
      },
      "source": [
        "grid_svc.fit(X_train, y_train)"
      ],
      "execution_count": null,
      "outputs": [
        {
          "output_type": "execute_result",
          "data": {
            "text/plain": [
              "GridSearchCV(cv=10, error_score=nan,\n",
              "             estimator=SVC(C=1.0, break_ties=False, cache_size=200,\n",
              "                           class_weight=None, coef0=0.0,\n",
              "                           decision_function_shape='ovr', degree=3,\n",
              "                           gamma='scale', kernel='rbf', max_iter=-1,\n",
              "                           probability=False, random_state=None, shrinking=True,\n",
              "                           tol=0.001, verbose=False),\n",
              "             iid='deprecated', n_jobs=None,\n",
              "             param_grid={'C': [0.1, 0.8, 0.9, 1, 1.1, 1.2, 1.3, 1.4],\n",
              "                         'gamma': [0.1, 0.8, 0.9, 1, 1.1, 1.2, 1.3, 1.4],\n",
              "                         'kernel': ['linear', 'rbf']},\n",
              "             pre_dispatch='2*n_jobs', refit=True, return_train_score=False,\n",
              "             scoring='accuracy', verbose=0)"
            ]
          },
          "metadata": {
            "tags": []
          },
          "execution_count": 24
        }
      ]
    },
    {
      "cell_type": "code",
      "metadata": {
        "id": "XrFICUCQ5yT2",
        "colab_type": "code",
        "colab": {
          "base_uri": "https://localhost:8080/",
          "height": 34
        },
        "outputId": "9304d5cc-4f90-4941-bce4-cde300865835"
      },
      "source": [
        "#Best parameters for our svc model\n",
        "grid_svc.best_params_"
      ],
      "execution_count": null,
      "outputs": [
        {
          "output_type": "execute_result",
          "data": {
            "text/plain": [
              "{'C': 1.2, 'gamma': 0.9, 'kernel': 'rbf'}"
            ]
          },
          "metadata": {
            "tags": []
          },
          "execution_count": 25
        }
      ]
    },
    {
      "cell_type": "code",
      "metadata": {
        "id": "B93flaP154uJ",
        "colab_type": "code",
        "colab": {
          "base_uri": "https://localhost:8080/",
          "height": 176
        },
        "outputId": "3691c328-7dfd-49df-9fee-61534855c212"
      },
      "source": [
        "#Let's run our SVC again with the best parameters.\n",
        "svc2 = SVC(C = 1.2, gamma =  0.9, kernel= 'rbf')\n",
        "svc2.fit(X_train, y_train)\n",
        "pred_svc2 = svc2.predict(X_test)\n",
        "print(classification_report(y_test, pred_svc2))"
      ],
      "execution_count": null,
      "outputs": [
        {
          "output_type": "stream",
          "text": [
            "              precision    recall  f1-score   support\n",
            "\n",
            "           0       0.90      0.99      0.94       273\n",
            "           1       0.89      0.34      0.49        47\n",
            "\n",
            "    accuracy                           0.90       320\n",
            "   macro avg       0.89      0.67      0.72       320\n",
            "weighted avg       0.90      0.90      0.88       320\n",
            "\n"
          ],
          "name": "stdout"
        }
      ]
    },
    {
      "cell_type": "markdown",
      "metadata": {
        "id": "ZsxcJ0y4591o",
        "colab_type": "text"
      },
      "source": [
        "### SVC improves from 86% to 90% using Grid Search CV"
      ]
    },
    {
      "cell_type": "markdown",
      "metadata": {
        "id": "wMymjz9j6Njt",
        "colab_type": "text"
      },
      "source": [
        "## Cross Validation Score for random forest and SGD\n"
      ]
    },
    {
      "cell_type": "code",
      "metadata": {
        "id": "ibEZ9APs6RjA",
        "colab_type": "code",
        "colab": {
          "base_uri": "https://localhost:8080/",
          "height": 34
        },
        "outputId": "87d2359d-4f54-460a-f10b-4a912a016d3f"
      },
      "source": [
        "#Now lets try to do some evaluation for random forest model using cross validation.\n",
        "rfc_eval = cross_val_score(estimator = rfc, X = X_train, y = y_train, cv = 10)\n",
        "rfc_eval.mean()"
      ],
      "execution_count": null,
      "outputs": [
        {
          "output_type": "execute_result",
          "data": {
            "text/plain": [
              "0.910894438976378"
            ]
          },
          "metadata": {
            "tags": []
          },
          "execution_count": 27
        }
      ]
    },
    {
      "cell_type": "markdown",
      "metadata": {
        "id": "i-a6BIX66iU-",
        "colab_type": "text"
      },
      "source": [
        "### Random forest accuracy increases from 87% to 91 % using cross validation \n"
      ]
    },
    {
      "cell_type": "code",
      "metadata": {
        "id": "2wI9aCUI5-_z",
        "colab_type": "code",
        "colab": {}
      },
      "source": [
        ""
      ],
      "execution_count": null,
      "outputs": []
    }
  ]
}